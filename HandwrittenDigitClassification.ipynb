{
  "nbformat": 4,
  "nbformat_minor": 0,
  "metadata": {
    "colab": {
      "provenance": []
    },
    "kernelspec": {
      "name": "python3",
      "display_name": "Python 3"
    },
    "language_info": {
      "name": "python"
    }
  },
  "cells": [
    {
      "cell_type": "code",
      "execution_count": 20,
      "metadata": {
        "id": "Es1TjUkJK23I"
      },
      "outputs": [],
      "source": [
        "from tensorflow.keras.datasets import mnist"
      ]
    },
    {
      "cell_type": "markdown",
      "source": [
        "# **Step 01: Load Dataset**"
      ],
      "metadata": {
        "id": "G1nRZkidLwjP"
      }
    },
    {
      "cell_type": "code",
      "source": [
        "# Load MNIST data\n",
        "(X_train_full, y_train_full), (X_test, y_test) = mnist.load_data()"
      ],
      "metadata": {
        "id": "CSM0w1cxLImQ"
      },
      "execution_count": 21,
      "outputs": []
    },
    {
      "cell_type": "markdown",
      "source": [
        "# **Step 02: Data Splitting**"
      ],
      "metadata": {
        "id": "IJexbMk9L2Ao"
      }
    },
    {
      "cell_type": "code",
      "source": [
        "# Split training into training (80%) and validation (20%)\n",
        "X_train, X_val = X_train_full[:48000] / 255.0, X_train_full[48000:] / 255.0\n",
        "y_train, y_val = y_train_full[:48000], y_train_full[48000:]"
      ],
      "metadata": {
        "id": "k01V7DQ7LLAn"
      },
      "execution_count": 22,
      "outputs": []
    },
    {
      "cell_type": "code",
      "source": [
        "print(f\"Training: {X_train.shape}, Validation: {X_val.shape}, Test: {X_test.shape}\")"
      ],
      "metadata": {
        "colab": {
          "base_uri": "https://localhost:8080/"
        },
        "id": "CtXT-_m8LOxn",
        "outputId": "2c33161b-771e-49f4-c09b-442c8b9e5284"
      },
      "execution_count": 23,
      "outputs": [
        {
          "output_type": "stream",
          "name": "stdout",
          "text": [
            "Training: (48000, 28, 28), Validation: (12000, 28, 28), Test: (10000, 28, 28)\n"
          ]
        }
      ]
    },
    {
      "cell_type": "markdown",
      "source": [
        "# **Step 03: Model Training**"
      ],
      "metadata": {
        "id": "N9glo4j9MAFh"
      }
    },
    {
      "cell_type": "code",
      "source": [
        "from tensorflow.keras.models import Sequential\n",
        "from tensorflow.keras.layers import Dense, Flatten"
      ],
      "metadata": {
        "id": "RKYc4U13LPe0"
      },
      "execution_count": 24,
      "outputs": []
    },
    {
      "cell_type": "code",
      "source": [
        "# Build model\n",
        "model = Sequential([\n",
        "    Flatten(input_shape=(28, 28)),  # Flatten 28x28 images to 784 pixels\n",
        "    Dense(128, activation='relu'),   # Hidden layer with 128 neurons\n",
        "    Dense(10, activation='softmax')  # Output layer for 10 classes\n",
        "])"
      ],
      "metadata": {
        "id": "vzP3fiYeLWYV"
      },
      "execution_count": 25,
      "outputs": []
    },
    {
      "cell_type": "code",
      "source": [
        "# Compile\n",
        "model.compile(\n",
        "    optimizer='adam',\n",
        "    loss='sparse_categorical_crossentropy',  # Use \"categorical_crossentropy\" if one-hot encoded\n",
        "    metrics=['accuracy']\n",
        ")"
      ],
      "metadata": {
        "id": "ahkWTcIhLYvR"
      },
      "execution_count": 26,
      "outputs": []
    },
    {
      "cell_type": "code",
      "source": [
        "# Train for 10 epochs with batch_size=64\n",
        "history = model.fit(\n",
        "    X_train, y_train,\n",
        "    epochs=10,\n",
        "    batch_size=64,\n",
        "    validation_data=(X_val, y_val)\n",
        ")"
      ],
      "metadata": {
        "colab": {
          "base_uri": "https://localhost:8080/"
        },
        "id": "p8219wZ5Laf0",
        "outputId": "ac15544c-77da-4cfa-aaa0-1af02fba4973"
      },
      "execution_count": 27,
      "outputs": [
        {
          "output_type": "stream",
          "name": "stdout",
          "text": [
            "Epoch 1/10\n",
            "\u001b[1m750/750\u001b[0m \u001b[32m━━━━━━━━━━━━━━━━━━━━\u001b[0m\u001b[37m\u001b[0m \u001b[1m4s\u001b[0m 4ms/step - accuracy: 0.8380 - loss: 0.5695 - val_accuracy: 0.9511 - val_loss: 0.1750\n",
            "Epoch 2/10\n",
            "\u001b[1m750/750\u001b[0m \u001b[32m━━━━━━━━━━━━━━━━━━━━\u001b[0m\u001b[37m\u001b[0m \u001b[1m6s\u001b[0m 4ms/step - accuracy: 0.9526 - loss: 0.1600 - val_accuracy: 0.9621 - val_loss: 0.1296\n",
            "Epoch 3/10\n",
            "\u001b[1m750/750\u001b[0m \u001b[32m━━━━━━━━━━━━━━━━━━━━\u001b[0m\u001b[37m\u001b[0m \u001b[1m4s\u001b[0m 5ms/step - accuracy: 0.9672 - loss: 0.1114 - val_accuracy: 0.9663 - val_loss: 0.1114\n",
            "Epoch 4/10\n",
            "\u001b[1m750/750\u001b[0m \u001b[32m━━━━━━━━━━━━━━━━━━━━\u001b[0m\u001b[37m\u001b[0m \u001b[1m3s\u001b[0m 4ms/step - accuracy: 0.9775 - loss: 0.0788 - val_accuracy: 0.9663 - val_loss: 0.1156\n",
            "Epoch 5/10\n",
            "\u001b[1m750/750\u001b[0m \u001b[32m━━━━━━━━━━━━━━━━━━━━\u001b[0m\u001b[37m\u001b[0m \u001b[1m5s\u001b[0m 4ms/step - accuracy: 0.9819 - loss: 0.0644 - val_accuracy: 0.9732 - val_loss: 0.0919\n",
            "Epoch 6/10\n",
            "\u001b[1m750/750\u001b[0m \u001b[32m━━━━━━━━━━━━━━━━━━━━\u001b[0m\u001b[37m\u001b[0m \u001b[1m3s\u001b[0m 4ms/step - accuracy: 0.9850 - loss: 0.0497 - val_accuracy: 0.9718 - val_loss: 0.0942\n",
            "Epoch 7/10\n",
            "\u001b[1m750/750\u001b[0m \u001b[32m━━━━━━━━━━━━━━━━━━━━\u001b[0m\u001b[37m\u001b[0m \u001b[1m5s\u001b[0m 4ms/step - accuracy: 0.9884 - loss: 0.0402 - val_accuracy: 0.9743 - val_loss: 0.0865\n",
            "Epoch 8/10\n",
            "\u001b[1m750/750\u001b[0m \u001b[32m━━━━━━━━━━━━━━━━━━━━\u001b[0m\u001b[37m\u001b[0m \u001b[1m5s\u001b[0m 4ms/step - accuracy: 0.9916 - loss: 0.0308 - val_accuracy: 0.9733 - val_loss: 0.0883\n",
            "Epoch 9/10\n",
            "\u001b[1m750/750\u001b[0m \u001b[32m━━━━━━━━━━━━━━━━━━━━\u001b[0m\u001b[37m\u001b[0m \u001b[1m5s\u001b[0m 4ms/step - accuracy: 0.9937 - loss: 0.0249 - val_accuracy: 0.9755 - val_loss: 0.0844\n",
            "Epoch 10/10\n",
            "\u001b[1m750/750\u001b[0m \u001b[32m━━━━━━━━━━━━━━━━━━━━\u001b[0m\u001b[37m\u001b[0m \u001b[1m3s\u001b[0m 4ms/step - accuracy: 0.9947 - loss: 0.0210 - val_accuracy: 0.9751 - val_loss: 0.0876\n"
          ]
        }
      ]
    },
    {
      "cell_type": "markdown",
      "source": [
        "# **Step 04: Final Test Evaluation**"
      ],
      "metadata": {
        "id": "Y35pN4tcMHix"
      }
    },
    {
      "cell_type": "code",
      "source": [
        "test_loss, test_acc = model.evaluate(X_test, y_test)\n",
        "print(f\"Test Accuracy: {test_acc:.4f}\")"
      ],
      "metadata": {
        "colab": {
          "base_uri": "https://localhost:8080/"
        },
        "id": "uVt-UfpiLbRA",
        "outputId": "850badb4-907a-4703-ddf8-50538a3f8a56"
      },
      "execution_count": 28,
      "outputs": [
        {
          "output_type": "stream",
          "name": "stdout",
          "text": [
            "\u001b[1m313/313\u001b[0m \u001b[32m━━━━━━━━━━━━━━━━━━━━\u001b[0m\u001b[37m\u001b[0m \u001b[1m1s\u001b[0m 2ms/step - accuracy: 0.9726 - loss: 16.9148\n",
            "Test Accuracy: 0.9761\n"
          ]
        }
      ]
    },
    {
      "cell_type": "markdown",
      "source": [
        "# **Step 05: Save model for Future Predictions**"
      ],
      "metadata": {
        "id": "37DDIljfFbYm"
      }
    },
    {
      "cell_type": "code",
      "source": [
        "model.save('mnist_model.h5')"
      ],
      "metadata": {
        "colab": {
          "base_uri": "https://localhost:8080/"
        },
        "id": "qjkJVx9xFSVD",
        "outputId": "40662293-1798-40fd-bdf4-153383ff733f"
      },
      "execution_count": 29,
      "outputs": [
        {
          "output_type": "stream",
          "name": "stderr",
          "text": [
            "WARNING:absl:You are saving your model as an HDF5 file via `model.save()` or `keras.saving.save_model(model)`. This file format is considered legacy. We recommend using instead the native Keras format, e.g. `model.save('my_model.keras')` or `keras.saving.save_model(model, 'my_model.keras')`. \n"
          ]
        }
      ]
    },
    {
      "cell_type": "markdown",
      "source": [
        "# **Step 06: Sample Predictions**"
      ],
      "metadata": {
        "id": "C38WNEj2GLHG"
      }
    },
    {
      "cell_type": "code",
      "source": [
        "import matplotlib.pyplot as plt\n",
        "import numpy as np"
      ],
      "metadata": {
        "id": "fq5F2dcTFTHk"
      },
      "execution_count": 30,
      "outputs": []
    },
    {
      "cell_type": "code",
      "source": [
        "# Select 5 random test samples\n",
        "sample_indices = np.random.choice(len(X_test), 5)\n",
        "samples = X_test[sample_indices]\n",
        "true_labels = y_test[sample_indices]"
      ],
      "metadata": {
        "id": "UiRlex71F6gl"
      },
      "execution_count": 31,
      "outputs": []
    },
    {
      "cell_type": "code",
      "source": [
        "# Make predictions\n",
        "predicted_probs = model.predict(samples)\n",
        "predicted_labels = np.argmax(predicted_probs, axis=1)"
      ],
      "metadata": {
        "colab": {
          "base_uri": "https://localhost:8080/"
        },
        "id": "CshCSyU6F8NT",
        "outputId": "c29f5b70-4313-4bc0-e7e4-373563cf4eb4"
      },
      "execution_count": 32,
      "outputs": [
        {
          "output_type": "stream",
          "name": "stdout",
          "text": [
            "\u001b[1m1/1\u001b[0m \u001b[32m━━━━━━━━━━━━━━━━━━━━\u001b[0m\u001b[37m\u001b[0m \u001b[1m0s\u001b[0m 58ms/step\n"
          ]
        }
      ]
    },
    {
      "cell_type": "code",
      "source": [
        "# Display results\n",
        "plt.figure(figsize=(12, 6))\n",
        "for i in range(5):\n",
        "    plt.subplot(1, 5, i+1)\n",
        "    plt.imshow(samples[i], cmap='gray')\n",
        "    plt.title(f\"True: {true_labels[i]}\\nPred: {predicted_labels[i]}\")\n",
        "    plt.axis('off')\n",
        "plt.tight_layout()\n",
        "plt.show()"
      ],
      "metadata": {
        "colab": {
          "base_uri": "https://localhost:8080/",
          "height": 222
        },
        "id": "wmvkFUFJF9rr",
        "outputId": "870e1a3e-35ba-4794-8beb-d31269e455c5"
      },
      "execution_count": 33,
      "outputs": [
        {
          "output_type": "display_data",
          "data": {
            "text/plain": [
              "<Figure size 1200x600 with 5 Axes>"
            ],
            "image/png": "[encoded data removed]"
          },
          "metadata": {}
        }
      ]
    }
  ]
}